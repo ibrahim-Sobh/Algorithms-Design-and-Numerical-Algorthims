{
 "cells": [
  {
   "cell_type": "code",
   "execution_count": 64,
   "id": "0fae206d",
   "metadata": {
    "scrolled": true
   },
   "outputs": [
    {
     "name": "stdout",
     "output_type": "stream",
     "text": [
      "[[5 2 1 3 4 2 2 7 6 0]]\n",
      "[[5]\n",
      " [2]\n",
      " [1]\n",
      " [3]\n",
      " [4]\n",
      " [2]\n",
      " [2]\n",
      " [7]\n",
      " [6]\n",
      " [0]]\n",
      "[[25 10  5 15 20 10 10 35 30  0]\n",
      " [10  4  2  6  8  4  4 14 12  0]\n",
      " [ 5  2  1  3  4  2  2  7  6  0]\n",
      " [15  6  3  9 12  6  6 21 18  0]\n",
      " [20  8  4 12 16  8  8 28 24  0]\n",
      " [10  4  2  6  8  4  4 14 12  0]\n",
      " [10  4  2  6  8  4  4 14 12  0]\n",
      " [35 14  7 21 28 14 14 49 42  0]\n",
      " [30 12  6 18 24 12 12 42 36  0]\n",
      " [ 0  0  0  0  0  0  0  0  0  0]]\n"
     ]
    }
   ],
   "source": [
    "import numpy as np\n",
    "\n",
    "x = np.random.randint(0,10,(1,10))\n",
    "print(x)\n",
    "y=np.transpose(x)\n",
    "print(y)\n",
    "print(x*y)\n"
   ]
  },
  {
   "cell_type": "code",
   "execution_count": 117,
   "id": "d482a277",
   "metadata": {},
   "outputs": [
    {
     "data": {
      "text/plain": [
       "array([[0, 1, 2, 3, 4],\n",
       "       [1, 2, 3, 4, 5],\n",
       "       [2, 3, 4, 5, 6],\n",
       "       [3, 4, 5, 6, 7],\n",
       "       [4, 5, 6, 7, 8]])"
      ]
     },
     "execution_count": 117,
     "metadata": {},
     "output_type": "execute_result"
    }
   ],
   "source": [
    "A=np.add(*np.indices((5,5)))\n",
    "A"
   ]
  },
  {
   "cell_type": "code",
   "execution_count": 155,
   "id": "4897f8bd",
   "metadata": {},
   "outputs": [
    {
     "name": "stdout",
     "output_type": "stream",
     "text": [
      "[[0 1 2 3 4 5 6 7 8 9]\n",
      " [0 1 2 3 4 5 6 7 8 9]\n",
      " [0 1 2 3 4 5 6 7 8 9]\n",
      " [0 1 2 3 4 5 6 7 8 9]\n",
      " [0 1 2 3 4 5 6 7 8 9]\n",
      " [0 1 2 3 4 5 6 7 8 9]\n",
      " [0 1 2 3 4 5 6 7 8 9]\n",
      " [0 1 2 3 4 5 6 7 8 9]\n",
      " [0 1 2 3 4 5 6 7 8 9]\n",
      " [0 1 2 3 4 5 6 7 8 9]] \n",
      "\n",
      "[[0 0 0 0 0 0 0 0 0 0]\n",
      " [1 1 1 1 1 1 1 1 1 1]\n",
      " [2 2 2 2 2 2 2 2 2 2]\n",
      " [3 3 3 3 3 3 3 3 3 3]\n",
      " [4 4 4 4 4 4 4 4 4 4]\n",
      " [5 5 5 5 5 5 5 5 5 5]\n",
      " [6 6 6 6 6 6 6 6 6 6]\n",
      " [7 7 7 7 7 7 7 7 7 7]\n",
      " [8 8 8 8 8 8 8 8 8 8]\n",
      " [9 9 9 9 9 9 9 9 9 9]]\n"
     ]
    },
    {
     "data": {
      "text/plain": [
       "array([[ 0,  1,  2,  3,  4,  5,  6,  7,  8,  9],\n",
       "       [ 1,  2,  3,  4,  5,  6,  7,  8,  9, 10],\n",
       "       [ 2,  3,  4,  5,  6,  7,  8,  9, 10, 11],\n",
       "       [ 3,  4,  5,  6,  7,  8,  9, 10, 11, 12],\n",
       "       [ 4,  5,  6,  7,  8,  9, 10, 11, 12, 13],\n",
       "       [ 5,  6,  7,  8,  9, 10, 11, 12, 13, 14],\n",
       "       [ 6,  7,  8,  9, 10, 11, 12, 13, 14, 15],\n",
       "       [ 7,  8,  9, 10, 11, 12, 13, 14, 15, 16],\n",
       "       [ 8,  9, 10, 11, 12, 13, 14, 15, 16, 17],\n",
       "       [ 9, 10, 11, 12, 13, 14, 15, 16, 17, 18]])"
      ]
     },
     "execution_count": 155,
     "metadata": {},
     "output_type": "execute_result"
    }
   ],
   "source": [
    "arr= np.arange(0,10)\n",
    "arr= np.tile(arr,(10,1))\n",
    "print(arr,'\\n')\n",
    "arr=arr.reshape(-1,10)\n",
    "print(np.transpose(arr))\n",
    "np.transpose(arr) +arr"
   ]
  },
  {
   "cell_type": "code",
   "execution_count": 156,
   "id": "48369d2a",
   "metadata": {},
   "outputs": [
    {
     "data": {
      "text/plain": [
       "array([[0, 1, 2, 3, 4],\n",
       "       [1, 2, 3, 4, 5],\n",
       "       [2, 3, 4, 5, 6],\n",
       "       [3, 4, 5, 6, 7],\n",
       "       [4, 5, 6, 7, 8]])"
      ]
     },
     "execution_count": 156,
     "metadata": {},
     "output_type": "execute_result"
    }
   ],
   "source": [
    "np.transpose(np.tile(np.arange(0,5),(5,1)).reshape(-1,5)) + np.tile(np.arange(0,5),(5,1))\n"
   ]
  },
  {
   "cell_type": "code",
   "execution_count": 157,
   "id": "1e2570d2",
   "metadata": {},
   "outputs": [
    {
     "data": {
      "text/plain": [
       "array([[ 0,  1,  2,  3,  4,  5,  6,  7,  8,  9],\n",
       "       [ 1,  2,  3,  4,  5,  6,  7,  8,  9, 10],\n",
       "       [ 2,  3,  4,  5,  6,  7,  8,  9, 10, 11],\n",
       "       [ 3,  4,  5,  6,  7,  8,  9, 10, 11, 12],\n",
       "       [ 4,  5,  6,  7,  8,  9, 10, 11, 12, 13],\n",
       "       [ 5,  6,  7,  8,  9, 10, 11, 12, 13, 14],\n",
       "       [ 6,  7,  8,  9, 10, 11, 12, 13, 14, 15],\n",
       "       [ 7,  8,  9, 10, 11, 12, 13, 14, 15, 16],\n",
       "       [ 8,  9, 10, 11, 12, 13, 14, 15, 16, 17],\n",
       "       [ 9, 10, 11, 12, 13, 14, 15, 16, 17, 18]])"
      ]
     },
     "execution_count": 157,
     "metadata": {},
     "output_type": "execute_result"
    }
   ],
   "source": [
    "np.transpose(arr) +arr"
   ]
  },
  {
   "cell_type": "code",
   "execution_count": 176,
   "id": "307c9184",
   "metadata": {},
   "outputs": [
    {
     "data": {
      "text/plain": [
       "array([[-1.        ,  1.33333333],\n",
       "       [ 3.        , -1.        ]])"
      ]
     },
     "execution_count": 176,
     "metadata": {},
     "output_type": "execute_result"
    }
   ],
   "source": [
    "from numpy.linalg import inv\n",
    "[[1,2],[3,3]] * inv([[1 ,2],[3 ,3]])"
   ]
  },
  {
   "cell_type": "code",
   "execution_count": null,
   "id": "bfb21bbe",
   "metadata": {},
   "outputs": [],
   "source": []
  }
 ],
 "metadata": {
  "kernelspec": {
   "display_name": "Python 3 (ipykernel)",
   "language": "python",
   "name": "python3"
  },
  "language_info": {
   "codemirror_mode": {
    "name": "ipython",
    "version": 3
   },
   "file_extension": ".py",
   "mimetype": "text/x-python",
   "name": "python",
   "nbconvert_exporter": "python",
   "pygments_lexer": "ipython3",
   "version": "3.9.7"
  }
 },
 "nbformat": 4,
 "nbformat_minor": 5
}
